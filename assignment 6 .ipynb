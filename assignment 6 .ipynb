{
 "cells": [
  {
   "cell_type": "code",
   "execution_count": null,
   "id": "d4d4d5db",
   "metadata": {},
   "outputs": [],
   "source": [
    "1. What are escape characters, and how do you use them?\n",
    "ANSWER:\n",
    "    Escape characters represent characters in string values that would otherwise be difficult  to type into code"
   ]
  },
  {
   "cell_type": "code",
   "execution_count": null,
   "id": "6d80eb33",
   "metadata": {},
   "outputs": [],
   "source": [
    "2. What do the escape characters n and t stand for?\n",
    "ANSWER:\n",
    "    \\n is a newline\n",
    "    \\t is a tab"
   ]
  },
  {
   "cell_type": "code",
   "execution_count": null,
   "id": "0923a1dc",
   "metadata": {},
   "outputs": [],
   "source": [
    "3. What is the way to include backslash characters in a string?\n",
    "ANSWER:\n",
    "    The \\\\ escape character represent a backslash character."
   ]
  },
  {
   "cell_type": "code",
   "execution_count": null,
   "id": "14f4a29d",
   "metadata": {},
   "outputs": [],
   "source": [
    "4. The string \"How's Moving Castle\" is a correct value. Why isnt the single quote character in the\n",
    "word Howl's not escaped a problem?\n",
    "ANSWER:\n",
    "    The single quote in Howl's is fine because you've used double quotes in the start ans end\n",
    "    "
   ]
  },
  {
   "cell_type": "code",
   "execution_count": null,
   "id": "469422e6",
   "metadata": {},
   "outputs": [],
   "source": [
    "5. How do you write a string of newlines if you dont want to use the n character?\n",
    "ANSWER:\n",
    "    Multiline strings allow you to use newlines in strings without the \\n escape character."
   ]
  },
  {
   "cell_type": "code",
   "execution_count": null,
   "id": "a156cedc",
   "metadata": {},
   "outputs": [],
   "source": [
    "6. What do the following expressions evaluate to?\n",
    "\n",
    "'Hello world!'[1]\n",
    "\n",
    "'Hello world!'[0:5]\n",
    "\n",
    "'Hello world!'[:5]\n",
    "\n",
    "'Hello world!'[3:]\n",
    "ANSWER:\n",
    "\n",
    "'e'\n",
    "\n",
    "'Hello'\n",
    "\n",
    "'Hello'\n",
    "\n",
    "'lo world!"
   ]
  },
  {
   "cell_type": "code",
   "execution_count": null,
   "id": "cb579b2b",
   "metadata": {},
   "outputs": [],
   "source": [
    "7. What do the following expressions evaluate to?\n",
    "\n",
    "'Hello'.upper()\n",
    "\n",
    "'Hello'.upper().isupper()\n",
    "\n",
    "'Hello'.upper().lower()\n",
    "ANSWER:\n",
    "    \n",
    "    'HELLO'\n",
    "\n",
    "     True\n",
    "\n",
    "    'hello'\n",
    "    "
   ]
  },
  {
   "cell_type": "code",
   "execution_count": null,
   "id": "383f4cbb",
   "metadata": {},
   "outputs": [],
   "source": [
    "8. What are the values of the following expressions?\n",
    "  'Remember, remember, the fifth of November.'.split()\n",
    "    '-'.join('There can be only one.'.split())\n",
    "ANSWER:\n",
    "    ['Remember,', 'remember,', 'the', 'fifth', 'of', 'November.']\n",
    "    \n",
    "    'There-can-be-only-one'"
   ]
  },
  {
   "cell_type": "code",
   "execution_count": null,
   "id": "20e84305",
   "metadata": {},
   "outputs": [],
   "source": [
    "9. What are the methods for right-justifying, left-justifying, and centering a string?\n",
    "ANSWER:\n",
    "    rjust(), ljust(), and center() string methods."
   ]
  },
  {
   "cell_type": "code",
   "execution_count": null,
   "id": "8c69ad3e",
   "metadata": {},
   "outputs": [],
   "source": [
    "10. What is the best way to remove whitespace characters from the start or end?\n",
    "ANSWER:\n",
    "    The lstrip() and rstrip() methods remove whitespace from the left and right ends of a string."
   ]
  }
 ],
 "metadata": {
  "kernelspec": {
   "display_name": "Python 3 (ipykernel)",
   "language": "python",
   "name": "python3"
  },
  "language_info": {
   "codemirror_mode": {
    "name": "ipython",
    "version": 3
   },
   "file_extension": ".py",
   "mimetype": "text/x-python",
   "name": "python",
   "nbconvert_exporter": "python",
   "pygments_lexer": "ipython3",
   "version": "3.9.13"
  }
 },
 "nbformat": 4,
 "nbformat_minor": 5
}
